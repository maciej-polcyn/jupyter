{
 "cells": [
  {
   "cell_type": "markdown",
   "id": "aa493379-f211-4d43-b32d-d320342856fc",
   "metadata": {},
   "source": [
    "# Matrixes\n",
    "The size of a matrix is described by numbers of rows and columns.\n",
    "> A = (rows x columns)\n",
    "\n",
    "Hence, when calling a cell in matrix, the first variable corresponds to the row, and the second one - column.\n",
    "\n",
    "     [a11, a12, a13, ..., a1n]\n",
    "     [a21, a22, a23, ..., a2n]\n",
    "     [...  ...  ...  ...  ...]\n",
    "     [am1, am2, am3, ..., amn]\n",
    "    \n",
    "Matrix can be multiplied by a vector, provided that the number of columns in matrix and the length of a vector are the same."
   ]
  },
  {
   "cell_type": "markdown",
   "id": "6f802a47-1fbf-46b2-9242-635820f9e919",
   "metadata": {},
   "source": [
    "## Multiplying matrix by vector:"
   ]
  },
  {
   "cell_type": "code",
   "execution_count": 42,
   "id": "57eeefc2-9f63-4e1b-b25f-a694ef955c27",
   "metadata": {},
   "outputs": [],
   "source": [
    "import numpy as np"
   ]
  },
  {
   "cell_type": "code",
   "execution_count": 49,
   "id": "8e05b581-7fa3-41e6-89e9-af1930df0dcf",
   "metadata": {},
   "outputs": [
    {
     "name": "stdout",
     "output_type": "stream",
     "text": [
      "Multiplied matrix: \n",
      "[[ 1  4  9 16 25]\n",
      " [ 0  4  3 12 20]\n",
      " [ 4  6  3  0 15]]\n",
      "\n",
      "Resulting vector: \n",
      "[55, 39, 28]\n"
     ]
    }
   ],
   "source": [
    "matrix = np.array([\n",
    "    [1, 2, 3, 4, 5],\n",
    "    [0, 2, 1, 3, 4],\n",
    "    [4, 3, 1, 0, 3]\n",
    "    ])\n",
    "vector = np.array([1, 2, 3, 4, 5])\n",
    "count = 0\n",
    "outcome = []\n",
    "\n",
    "for row in range(len(matrix)):\n",
    "    for column in range(len(matrix[row])):\n",
    "        matrix[row][column] = matrix[row][column] * vector[column]\n",
    "        count += matrix[row][column]\n",
    "    outcome.append(count)\n",
    "    count = 0\n",
    "    \n",
    "print(f\"Multiplied matrix: \\n{matrix}\\n\")\n",
    "print(f\"Resulting vector: \\n{outcome}\")"
   ]
  },
  {
   "cell_type": "markdown",
   "id": "853b8792-9759-40a4-9585-c843db2c58e8",
   "metadata": {},
   "source": [
    "## Multipliyng matrix by vector - as a defined funcion:"
   ]
  },
  {
   "cell_type": "code",
   "execution_count": 47,
   "id": "7b0a0904-6f0f-49d4-bd6a-7b8d7b7e21ba",
   "metadata": {},
   "outputs": [
    {
     "data": {
      "text/plain": [
       "[55, 39, 28]"
      ]
     },
     "execution_count": 47,
     "metadata": {},
     "output_type": "execute_result"
    }
   ],
   "source": [
    "def matrix_times_vector(matrix, vector):\n",
    "    count = 0\n",
    "    outcome = []\n",
    "    for row in range(len(matrix)):\n",
    "        for column in range(len(matrix[row])):\n",
    "            matrix[row][column] = matrix[row][column] * vector[column]\n",
    "            count += matrix[row][column]\n",
    "        outcome.append(count)\n",
    "        count = 0\n",
    "    return outcome\n",
    "\n",
    "\n",
    "m = np.array([\n",
    "    [1, 2, 3, 4, 5],\n",
    "    [0, 2, 1, 3, 4],\n",
    "    [4, 3, 1, 0, 3]\n",
    "    ])\n",
    "\n",
    "v = np.array([1, 2, 3, 4, 5, 6])\n",
    "\n",
    "matrix_times_vector(m, v)"
   ]
  },
  {
   "cell_type": "markdown",
   "id": "e2e6a4e8-4aaf-45f9-a494-47298aff65ae",
   "metadata": {},
   "source": [
    "## What if the number of columns and the length of a vector doesnt match?"
   ]
  },
  {
   "cell_type": "code",
   "execution_count": 56,
   "id": "5f6c350e-40ca-42c6-bb38-acc8ba995802",
   "metadata": {},
   "outputs": [
    {
     "data": {
      "text/plain": [
       "[55, 39, 28]"
      ]
     },
     "execution_count": 56,
     "metadata": {},
     "output_type": "execute_result"
    }
   ],
   "source": [
    "def matrix_times_vector(matrix, vector):\n",
    "    count = 0\n",
    "    outcome = []\n",
    "    if len(matrix[0]) == len(vector):\n",
    "\n",
    "        for row in range(len(matrix)):\n",
    "            for column in range(len(matrix[row])):\n",
    "                matrix[row][column] = matrix[row][column] * vector[column]\n",
    "                count += matrix[row][column]\n",
    "            outcome.append(count)\n",
    "            count = 0\n",
    "    else:\n",
    "       print(\"Number of items in vector must be the same as number of columns in matrix.\")     \n",
    "    return outcome\n",
    "\n",
    "\n",
    "m = np.array([\n",
    "    [1, 2, 3, 4, 5],\n",
    "    [0, 2, 1, 3, 4],\n",
    "    [4, 3, 1, 0, 3]\n",
    "    ])\n",
    "\n",
    "v = np.array([1, 2, 3, 4, 5])\n",
    "\n",
    "matrix_times_vector(m, v)"
   ]
  },
  {
   "cell_type": "code",
   "execution_count": null,
   "id": "3f6ba95c-ada1-4c1f-822b-a0b916ae643b",
   "metadata": {},
   "outputs": [],
   "source": []
  }
 ],
 "metadata": {
  "kernelspec": {
   "display_name": "Python 3 (ipykernel)",
   "language": "python",
   "name": "python3"
  },
  "language_info": {
   "codemirror_mode": {
    "name": "ipython",
    "version": 3
   },
   "file_extension": ".py",
   "mimetype": "text/x-python",
   "name": "python",
   "nbconvert_exporter": "python",
   "pygments_lexer": "ipython3",
   "version": "3.11.0"
  }
 },
 "nbformat": 4,
 "nbformat_minor": 5
}
