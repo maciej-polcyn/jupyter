{
 "cells": [
  {
   "cell_type": "markdown",
   "id": "e859dcd1-ac5e-4337-a975-df4a2eaac62f",
   "metadata": {
    "tags": []
   },
   "source": [
    "# This is the main heading\n",
    "This is some paragraph content\n",
    "\n",
    "**That's how you bold the text.**\n",
    "\n",
    "_Or use italic._\n",
    "\n",
    "[link anchor](https://github.com/maciej-polcyn?tab=repositories)\n",
    "\n",
    "> And the way to use an indent\n",
    "\n",
    "## This is next level of heading"
   ]
  },
  {
   "cell_type": "markdown",
   "id": "b7dedec9-187c-47e6-8648-d5b1b3f51b0f",
   "metadata": {},
   "source": [
    "Now I can just describe the code I'm about to write in the next cell."
   ]
  },
  {
   "cell_type": "code",
   "execution_count": 2,
   "id": "3e20356c-e762-4660-8691-01f46fa64639",
   "metadata": {},
   "outputs": [],
   "source": [
    "import numpy as np\n",
    "import pandas as pd\n",
    "import matplotlib as plt"
   ]
  },
  {
   "cell_type": "markdown",
   "id": "8590d119-13e8-45d1-b5df-2c6b9758c8f8",
   "metadata": {},
   "source": [
    "These are the key python packages for Data Science "
   ]
  },
  {
   "cell_type": "code",
   "execution_count": 3,
   "id": "884f8107-81ff-444d-87ec-3636831d3066",
   "metadata": {},
   "outputs": [],
   "source": [
    "records = [1, 2, 3, 4, 5, 6]\n",
    "records = np.array(records)"
   ]
  },
  {
   "cell_type": "code",
   "execution_count": 5,
   "id": "62499a35-ba09-4e3c-ac83-16eeca5a78ce",
   "metadata": {},
   "outputs": [
    {
     "data": {
      "text/plain": [
       "dtype('int32')"
      ]
     },
     "execution_count": 5,
     "metadata": {},
     "output_type": "execute_result"
    }
   ],
   "source": [
    "records.dtype"
   ]
  },
  {
   "cell_type": "code",
   "execution_count": null,
   "id": "686fe7e7-c23c-4e20-b383-39853fbc2b24",
   "metadata": {},
   "outputs": [],
   "source": []
  }
 ],
 "metadata": {
  "kernelspec": {
   "display_name": "Python 3 (ipykernel)",
   "language": "python",
   "name": "python3"
  },
  "language_info": {
   "codemirror_mode": {
    "name": "ipython",
    "version": 3
   },
   "file_extension": ".py",
   "mimetype": "text/x-python",
   "name": "python",
   "nbconvert_exporter": "python",
   "pygments_lexer": "ipython3",
   "version": "3.11.0"
  }
 },
 "nbformat": 4,
 "nbformat_minor": 5
}
